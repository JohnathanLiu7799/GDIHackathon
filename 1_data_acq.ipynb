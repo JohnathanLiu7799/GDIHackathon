{
 "cells": [
  {
   "cell_type": "markdown",
   "id": "aade4772-355b-4fed-ad7c-cdc7f99b514f",
   "metadata": {},
   "source": [
    "To gather data we'll be using Selenium"
   ]
  },
  {
   "cell_type": "code",
   "execution_count": 1,
   "id": "255b54c7-0cb4-4f7d-8ca4-013ec66ddb74",
   "metadata": {},
   "outputs": [],
   "source": [
    "from selenium import webdriver\n",
    "import time\n",
    "import pandas as pd"
   ]
  },
  {
   "cell_type": "markdown",
   "id": "ac20d7cf-519a-4deb-ad53-737e79965f39",
   "metadata": {},
   "source": [
    "url:\n",
    "\n",
    "Query = 'Data Scientist'\n",
    "\n",
    "Location = 'United States'"
   ]
  },
  {
   "cell_type": "code",
   "execution_count": 2,
   "id": "94fb1a72-f8ac-4f30-ba0f-17383b501ebb",
   "metadata": {},
   "outputs": [],
   "source": [
    "url = 'https://www.linkedin.com/jobs/search?keywords=Data%20Scientist&location=United%20States&geoId=&trk=public_jobs_jobs-search-bar_search-submit&position=1&pageNum=0'"
   ]
  },
  {
   "cell_type": "markdown",
   "id": "e7f5652d-1bb0-4dd6-bd3d-a94d6cf6d129",
   "metadata": {},
   "source": [
    "Setting up our web driver"
   ]
  },
  {
   "cell_type": "code",
   "execution_count": 6,
   "id": "a646efa4-c284-4f65-a110-a199abc799a8",
   "metadata": {},
   "outputs": [],
   "source": [
    "wd = webdriver.Chrome(executable_path='chromedriver.exe')"
   ]
  },
  {
   "cell_type": "code",
   "execution_count": null,
   "id": "897c0078-104e-4f66-8ee9-a027ea17fed5",
   "metadata": {},
   "outputs": [],
   "source": []
  }
 ],
 "metadata": {
  "kernelspec": {
   "display_name": "Python 3",
   "language": "python",
   "name": "python3"
  },
  "language_info": {
   "codemirror_mode": {
    "name": "ipython",
    "version": 3
   },
   "file_extension": ".py",
   "mimetype": "text/x-python",
   "name": "python",
   "nbconvert_exporter": "python",
   "pygments_lexer": "ipython3",
   "version": "3.8.8"
  }
 },
 "nbformat": 4,
 "nbformat_minor": 5
}
