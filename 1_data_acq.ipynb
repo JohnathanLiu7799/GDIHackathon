{
 "cells": [
  {
   "cell_type": "markdown",
   "id": "aade4772-355b-4fed-ad7c-cdc7f99b514f",
   "metadata": {},
   "source": [
    "To gather data we'll be using Selenium"
   ]
  },
  {
   "cell_type": "code",
   "execution_count": 1,
   "id": "255b54c7-0cb4-4f7d-8ca4-013ec66ddb74",
   "metadata": {},
   "outputs": [],
   "source": [
    "from selenium import webdriver\n",
    "import time\n",
    "import pandas as pd"
   ]
  },
  {
   "cell_type": "markdown",
   "id": "ac20d7cf-519a-4deb-ad53-737e79965f39",
   "metadata": {},
   "source": [
    "url:\n",
    "\n",
    "Query = 'Data Scientist'\n",
    "\n",
    "Location = 'Wayne PA United States'\n",
    "\n",
    "Experience = 'Entry Level'"
   ]
  },
  {
   "cell_type": "code",
   "execution_count": 6,
   "id": "94fb1a72-f8ac-4f30-ba0f-17383b501ebb",
   "metadata": {},
   "outputs": [],
   "source": [
    "url = 'https://www.linkedin.com/jobs/search/?keywords=Data%20Scientist&location=Wayne%2C%20Pennsylvania%2C%20United%20States&locationId=&geoId=102554230&f_TPR=&distance=25&f_E=2&position=1&pageNum=0'"
   ]
  },
  {
   "cell_type": "markdown",
   "id": "e7f5652d-1bb0-4dd6-bd3d-a94d6cf6d129",
   "metadata": {},
   "source": [
    "Setting up our web driver"
   ]
  },
  {
   "cell_type": "code",
   "execution_count": 7,
   "id": "a646efa4-c284-4f65-a110-a199abc799a8",
   "metadata": {},
   "outputs": [],
   "source": [
    "wd = webdriver.Chrome(executable_path='chromedriver.exe')"
   ]
  },
  {
   "cell_type": "code",
   "execution_count": 8,
   "id": "a23747c6-7ce7-4396-8843-9ed111aa7ee7",
   "metadata": {},
   "outputs": [],
   "source": [
    "wd.get(url)"
   ]
  },
  {
   "cell_type": "markdown",
   "id": "b8ea30e7-517c-4792-8242-06cb9be19dbe",
   "metadata": {},
   "source": [
    "Determines # of jobs that we'll use in calculating how much to scroll/click to show all jobs"
   ]
  },
  {
   "cell_type": "code",
   "execution_count": 15,
   "id": "7662a2fc-8fdb-4c6d-9f93-29b27a6b9c83",
   "metadata": {},
   "outputs": [],
   "source": [
    "no_of_jobs = wd.find_element_by_css_selector('h1>span').get_attribute('innerText')"
   ]
  },
  {
   "cell_type": "code",
   "execution_count": 18,
   "id": "97c84806-db9f-4925-aaaf-a73794bf0426",
   "metadata": {},
   "outputs": [
    {
     "data": {
      "text/plain": [
       "2"
      ]
     },
     "execution_count": 18,
     "metadata": {},
     "output_type": "execute_result"
    }
   ],
   "source": [
    "if '+' in no_of_jobs: #greater than 1000s\n",
    "    no_of_jobs = wd.find_element_by_css_selector('h1>span').get_attribute('innerText')[:-1].replace(',','')\n",
    "\n",
    "no_of_jobs = int(no_of_jobs)\n",
    "no_of_jobs"
   ]
  },
  {
   "cell_type": "markdown",
   "id": "9eb86bdc-3f12-4515-96b6-4d512baeaaaa",
   "metadata": {},
   "source": [
    "We then try to open as many jobs as possible, trying both to scroll and click 'See More Jobs'"
   ]
  },
  {
   "cell_type": "code",
   "execution_count": 19,
   "id": "bec3372b-f4f2-4bc0-ad24-4e4d67271e70",
   "metadata": {},
   "outputs": [],
   "source": [
    "i = 2\n",
    "while i <= int(no_of_jobs/25)+1: \n",
    "    wd.execute_script('window.scrollTo(0, document.body.scrollHeight);')\n",
    "    i = i + 1\n",
    "    try:\n",
    "        wd.find_element_by_xpath('//*[@id=\"main-content\"]/section[2]/button').click()\n",
    "        time.sleep(5)\n",
    "    except:\n",
    "        pass\n",
    "        time.sleep(5)"
   ]
  },
  {
   "cell_type": "code",
   "execution_count": 20,
   "id": "2157b7bc-67c1-4b09-b5d0-257464378915",
   "metadata": {},
   "outputs": [],
   "source": [
    "job_lists = wd.find_element_by_class_name('jobs-search__results-list')\n",
    "jobs = job_lists.find_elements_by_tag_name('li')"
   ]
  },
  {
   "cell_type": "code",
   "execution_count": 21,
   "id": "08f0fc0e-0c4b-4873-a29b-ee0da8b3c0c3",
   "metadata": {},
   "outputs": [
    {
     "data": {
      "text/plain": [
       "24"
      ]
     },
     "execution_count": 21,
     "metadata": {},
     "output_type": "execute_result"
    }
   ],
   "source": [
    "len(jobs)"
   ]
  },
  {
   "cell_type": "code",
   "execution_count": 51,
   "id": "31e67ea0-91b3-4ce6-914a-d992f87b539f",
   "metadata": {},
   "outputs": [
    {
     "ename": "NoSuchElementException",
     "evalue": "Message: no such element: Unable to locate element: {\"method\":\"css selector\",\"selector\":\".show-more-less-html__button show-more-lesshtml__button--more\"}\n  (Session info: chrome=99.0.4844.51)\n",
     "output_type": "error",
     "traceback": [
      "\u001b[1;31m---------------------------------------------------------------------------\u001b[0m",
      "\u001b[1;31mNoSuchElementException\u001b[0m                    Traceback (most recent call last)",
      "\u001b[1;32m<ipython-input-51-4a75038bf28a>\u001b[0m in \u001b[0;36m<module>\u001b[1;34m\u001b[0m\n\u001b[1;32m----> 1\u001b[1;33m \u001b[0mwd\u001b[0m\u001b[1;33m.\u001b[0m\u001b[0mfind_element_by_class_name\u001b[0m\u001b[1;33m(\u001b[0m\u001b[1;34m'show-more-less-html__button show-more-lesshtml__button--more'\u001b[0m\u001b[1;33m)\u001b[0m\u001b[1;33m\u001b[0m\u001b[1;33m\u001b[0m\u001b[0m\n\u001b[0m",
      "\u001b[1;32mC:\\ProgramData\\Anaconda3\\lib\\site-packages\\selenium\\webdriver\\remote\\webdriver.py\u001b[0m in \u001b[0;36mfind_element_by_class_name\u001b[1;34m(self, name)\u001b[0m\n\u001b[0;32m    562\u001b[0m             \u001b[0melement\u001b[0m \u001b[1;33m=\u001b[0m \u001b[0mdriver\u001b[0m\u001b[1;33m.\u001b[0m\u001b[0mfind_element_by_class_name\u001b[0m\u001b[1;33m(\u001b[0m\u001b[1;34m'foo'\u001b[0m\u001b[1;33m)\u001b[0m\u001b[1;33m\u001b[0m\u001b[1;33m\u001b[0m\u001b[0m\n\u001b[0;32m    563\u001b[0m         \"\"\"\n\u001b[1;32m--> 564\u001b[1;33m         \u001b[1;32mreturn\u001b[0m \u001b[0mself\u001b[0m\u001b[1;33m.\u001b[0m\u001b[0mfind_element\u001b[0m\u001b[1;33m(\u001b[0m\u001b[0mby\u001b[0m\u001b[1;33m=\u001b[0m\u001b[0mBy\u001b[0m\u001b[1;33m.\u001b[0m\u001b[0mCLASS_NAME\u001b[0m\u001b[1;33m,\u001b[0m \u001b[0mvalue\u001b[0m\u001b[1;33m=\u001b[0m\u001b[0mname\u001b[0m\u001b[1;33m)\u001b[0m\u001b[1;33m\u001b[0m\u001b[1;33m\u001b[0m\u001b[0m\n\u001b[0m\u001b[0;32m    565\u001b[0m \u001b[1;33m\u001b[0m\u001b[0m\n\u001b[0;32m    566\u001b[0m     \u001b[1;32mdef\u001b[0m \u001b[0mfind_elements_by_class_name\u001b[0m\u001b[1;33m(\u001b[0m\u001b[0mself\u001b[0m\u001b[1;33m,\u001b[0m \u001b[0mname\u001b[0m\u001b[1;33m)\u001b[0m\u001b[1;33m:\u001b[0m\u001b[1;33m\u001b[0m\u001b[1;33m\u001b[0m\u001b[0m\n",
      "\u001b[1;32mC:\\ProgramData\\Anaconda3\\lib\\site-packages\\selenium\\webdriver\\remote\\webdriver.py\u001b[0m in \u001b[0;36mfind_element\u001b[1;34m(self, by, value)\u001b[0m\n\u001b[0;32m    974\u001b[0m                 \u001b[0mby\u001b[0m \u001b[1;33m=\u001b[0m \u001b[0mBy\u001b[0m\u001b[1;33m.\u001b[0m\u001b[0mCSS_SELECTOR\u001b[0m\u001b[1;33m\u001b[0m\u001b[1;33m\u001b[0m\u001b[0m\n\u001b[0;32m    975\u001b[0m                 \u001b[0mvalue\u001b[0m \u001b[1;33m=\u001b[0m \u001b[1;34m'[name=\"%s\"]'\u001b[0m \u001b[1;33m%\u001b[0m \u001b[0mvalue\u001b[0m\u001b[1;33m\u001b[0m\u001b[1;33m\u001b[0m\u001b[0m\n\u001b[1;32m--> 976\u001b[1;33m         return self.execute(Command.FIND_ELEMENT, {\n\u001b[0m\u001b[0;32m    977\u001b[0m             \u001b[1;34m'using'\u001b[0m\u001b[1;33m:\u001b[0m \u001b[0mby\u001b[0m\u001b[1;33m,\u001b[0m\u001b[1;33m\u001b[0m\u001b[1;33m\u001b[0m\u001b[0m\n\u001b[0;32m    978\u001b[0m             'value': value})['value']\n",
      "\u001b[1;32mC:\\ProgramData\\Anaconda3\\lib\\site-packages\\selenium\\webdriver\\remote\\webdriver.py\u001b[0m in \u001b[0;36mexecute\u001b[1;34m(self, driver_command, params)\u001b[0m\n\u001b[0;32m    319\u001b[0m         \u001b[0mresponse\u001b[0m \u001b[1;33m=\u001b[0m \u001b[0mself\u001b[0m\u001b[1;33m.\u001b[0m\u001b[0mcommand_executor\u001b[0m\u001b[1;33m.\u001b[0m\u001b[0mexecute\u001b[0m\u001b[1;33m(\u001b[0m\u001b[0mdriver_command\u001b[0m\u001b[1;33m,\u001b[0m \u001b[0mparams\u001b[0m\u001b[1;33m)\u001b[0m\u001b[1;33m\u001b[0m\u001b[1;33m\u001b[0m\u001b[0m\n\u001b[0;32m    320\u001b[0m         \u001b[1;32mif\u001b[0m \u001b[0mresponse\u001b[0m\u001b[1;33m:\u001b[0m\u001b[1;33m\u001b[0m\u001b[1;33m\u001b[0m\u001b[0m\n\u001b[1;32m--> 321\u001b[1;33m             \u001b[0mself\u001b[0m\u001b[1;33m.\u001b[0m\u001b[0merror_handler\u001b[0m\u001b[1;33m.\u001b[0m\u001b[0mcheck_response\u001b[0m\u001b[1;33m(\u001b[0m\u001b[0mresponse\u001b[0m\u001b[1;33m)\u001b[0m\u001b[1;33m\u001b[0m\u001b[1;33m\u001b[0m\u001b[0m\n\u001b[0m\u001b[0;32m    322\u001b[0m             response['value'] = self._unwrap_value(\n\u001b[0;32m    323\u001b[0m                 response.get('value', None))\n",
      "\u001b[1;32mC:\\ProgramData\\Anaconda3\\lib\\site-packages\\selenium\\webdriver\\remote\\errorhandler.py\u001b[0m in \u001b[0;36mcheck_response\u001b[1;34m(self, response)\u001b[0m\n\u001b[0;32m    240\u001b[0m                 \u001b[0malert_text\u001b[0m \u001b[1;33m=\u001b[0m \u001b[0mvalue\u001b[0m\u001b[1;33m[\u001b[0m\u001b[1;34m'alert'\u001b[0m\u001b[1;33m]\u001b[0m\u001b[1;33m.\u001b[0m\u001b[0mget\u001b[0m\u001b[1;33m(\u001b[0m\u001b[1;34m'text'\u001b[0m\u001b[1;33m)\u001b[0m\u001b[1;33m\u001b[0m\u001b[1;33m\u001b[0m\u001b[0m\n\u001b[0;32m    241\u001b[0m             \u001b[1;32mraise\u001b[0m \u001b[0mexception_class\u001b[0m\u001b[1;33m(\u001b[0m\u001b[0mmessage\u001b[0m\u001b[1;33m,\u001b[0m \u001b[0mscreen\u001b[0m\u001b[1;33m,\u001b[0m \u001b[0mstacktrace\u001b[0m\u001b[1;33m,\u001b[0m \u001b[0malert_text\u001b[0m\u001b[1;33m)\u001b[0m\u001b[1;33m\u001b[0m\u001b[1;33m\u001b[0m\u001b[0m\n\u001b[1;32m--> 242\u001b[1;33m         \u001b[1;32mraise\u001b[0m \u001b[0mexception_class\u001b[0m\u001b[1;33m(\u001b[0m\u001b[0mmessage\u001b[0m\u001b[1;33m,\u001b[0m \u001b[0mscreen\u001b[0m\u001b[1;33m,\u001b[0m \u001b[0mstacktrace\u001b[0m\u001b[1;33m)\u001b[0m\u001b[1;33m\u001b[0m\u001b[1;33m\u001b[0m\u001b[0m\n\u001b[0m\u001b[0;32m    243\u001b[0m \u001b[1;33m\u001b[0m\u001b[0m\n\u001b[0;32m    244\u001b[0m     \u001b[1;32mdef\u001b[0m \u001b[0m_value_or_default\u001b[0m\u001b[1;33m(\u001b[0m\u001b[0mself\u001b[0m\u001b[1;33m,\u001b[0m \u001b[0mobj\u001b[0m\u001b[1;33m,\u001b[0m \u001b[0mkey\u001b[0m\u001b[1;33m,\u001b[0m \u001b[0mdefault\u001b[0m\u001b[1;33m)\u001b[0m\u001b[1;33m:\u001b[0m\u001b[1;33m\u001b[0m\u001b[1;33m\u001b[0m\u001b[0m\n",
      "\u001b[1;31mNoSuchElementException\u001b[0m: Message: no such element: Unable to locate element: {\"method\":\"css selector\",\"selector\":\".show-more-less-html__button show-more-lesshtml__button--more\"}\n  (Session info: chrome=99.0.4844.51)\n"
     ]
    }
   ],
   "source": [
    "wd.find_element_by_class_name('show-more-less-html__button show-more-lesshtml__button--more')"
   ]
  },
  {
   "cell_type": "code",
   "execution_count": 50,
   "id": "c58d3af1-0f5b-4f10-b5aa-394949f62493",
   "metadata": {
    "collapsed": true,
    "jupyter": {
     "outputs_hidden": true
    },
    "tags": []
   },
   "outputs": [
    {
     "name": "stdout",
     "output_type": "stream",
     "text": [
      "\n",
      "          Dismiss\n",
      "          \n",
      "  \n",
      "    \n",
      "    \n",
      "  \n",
      "\n",
      "        \n",
      "\n",
      "          Dismiss\n",
      "          \n",
      "  \n",
      "    \n",
      "    \n",
      "  \n",
      "\n",
      "        \n",
      "\n",
      "          Dismiss\n",
      "          \n",
      "  \n",
      "    \n",
      "    \n",
      "  \n",
      "\n",
      "        \n",
      "\n",
      "          Dismiss\n",
      "          \n",
      "  \n",
      "    \n",
      "    \n",
      "  \n",
      "\n",
      "        \n",
      "\n",
      "          Dismiss\n",
      "          \n",
      "  \n",
      "    \n",
      "    \n",
      "  \n",
      "\n",
      "        \n",
      "\n",
      "          Dismiss\n",
      "          \n",
      "  \n",
      "    \n",
      "    \n",
      "  \n",
      "\n",
      "        \n",
      "\n",
      "          Dismiss\n",
      "          \n",
      "  \n",
      "    \n",
      "    \n",
      "  \n",
      "\n",
      "        \n",
      "\n",
      "          Dismiss\n",
      "          \n",
      "  \n",
      "    \n",
      "    \n",
      "  \n",
      "\n",
      "        \n",
      "\n",
      "          Dismiss\n",
      "          \n",
      "  \n",
      "    \n",
      "    \n",
      "  \n",
      "\n",
      "        \n",
      "\n",
      "          Dismiss\n",
      "          \n",
      "  \n",
      "    \n",
      "    \n",
      "  \n",
      "\n",
      "        \n",
      "\n",
      "          Dismiss\n",
      "          \n",
      "  \n",
      "    \n",
      "    \n",
      "  \n",
      "\n",
      "        \n",
      "\n",
      "          Dismiss\n",
      "          \n",
      "  \n",
      "    \n",
      "    \n",
      "  \n",
      "\n",
      "        \n",
      "\n",
      "          Dismiss\n",
      "          \n",
      "  \n",
      "    \n",
      "    \n",
      "  \n",
      "\n",
      "        \n",
      "\n",
      "          Dismiss\n",
      "          \n",
      "  \n",
      "    \n",
      "    \n",
      "  \n",
      "\n",
      "        \n",
      "\n",
      "          Dismiss\n",
      "          \n",
      "  \n",
      "    \n",
      "    \n",
      "  \n",
      "\n",
      "        \n",
      "\n",
      "          Dismiss\n",
      "          \n",
      "  \n",
      "    \n",
      "    \n",
      "  \n",
      "\n",
      "        \n",
      "\n",
      "          Dismiss\n",
      "          \n",
      "  \n",
      "    \n",
      "    \n",
      "  \n",
      "\n",
      "        \n",
      "\n",
      "          Dismiss\n",
      "          \n",
      "  \n",
      "    \n",
      "    \n",
      "  \n",
      "\n",
      "        \n",
      "\n",
      "          Dismiss\n",
      "          \n",
      "  \n",
      "    \n",
      "    \n",
      "  \n",
      "\n",
      "        \n"
     ]
    },
    {
     "ename": "ElementClickInterceptedException",
     "evalue": "Message: element click intercepted: Element <a class=\"base-card__full-link\" href=\"https://www.linkedin.com/jobs/view/claims-data-analyst-at-icw-group-2950265021?refId=YBL9kCrZIYfWY2B87pg97g%3D%3D&amp;trackingId=RImSbIXKQ7rg9h0OzU6OyA%3D%3D&amp;position=20&amp;pageNum=0&amp;trk=public_jobs_jserp-result_search-card\" data-tracking-control-name=\"public_jobs_jserp-result_search-card\" data-tracking-client-ingraph=\"\" data-tracking-will-navigate=\"\">...</a> is not clickable at point (362, 837). Other element would receive the click: <a class=\"base-card__full-link\" href=\"https://www.linkedin.com/jobs/view/front-end-designer-developer-at-avantia-inc-2961189970?refId=YBL9kCrZIYfWY2B87pg97g%3D%3D&amp;trackingId=XCXMSni9xN%2BUCVmZfn1v8A%3D%3D&amp;position=14&amp;pageNum=0&amp;trk=public_jobs_jserp-result_search-card\" data-tracking-control-name=\"public_jobs_jserp-result_search-card\" data-tracking-client-ingraph=\"\" data-tracking-will-navigate=\"\">...</a>\n  (Session info: chrome=99.0.4844.51)\n",
     "output_type": "error",
     "traceback": [
      "\u001b[1;31m---------------------------------------------------------------------------\u001b[0m",
      "\u001b[1;31mElementClickInterceptedException\u001b[0m          Traceback (most recent call last)",
      "\u001b[1;32m<ipython-input-50-0cbe2dab782b>\u001b[0m in \u001b[0;36m<module>\u001b[1;34m\u001b[0m\n\u001b[0;32m      9\u001b[0m \u001b[1;33m\u001b[0m\u001b[0m\n\u001b[0;32m     10\u001b[0m     \u001b[1;31m#to click on jobs in left result bar\u001b[0m\u001b[1;33m\u001b[0m\u001b[1;33m\u001b[0m\u001b[1;33m\u001b[0m\u001b[0m\n\u001b[1;32m---> 11\u001b[1;33m     \u001b[0mjob\u001b[0m\u001b[1;33m.\u001b[0m\u001b[0mfind_element_by_class_name\u001b[0m\u001b[1;33m(\u001b[0m\u001b[1;34m'base-card__full-link'\u001b[0m\u001b[1;33m)\u001b[0m\u001b[1;33m.\u001b[0m\u001b[0mclick\u001b[0m\u001b[1;33m(\u001b[0m\u001b[1;33m)\u001b[0m\u001b[1;33m\u001b[0m\u001b[1;33m\u001b[0m\u001b[0m\n\u001b[0m\u001b[0;32m     12\u001b[0m \u001b[1;33m\u001b[0m\u001b[0m\n\u001b[0;32m     13\u001b[0m     \u001b[0mcurr_job_title\u001b[0m \u001b[1;33m=\u001b[0m \u001b[0mwd\u001b[0m\u001b[1;33m.\u001b[0m\u001b[0mfind_element_by_css_selector\u001b[0m\u001b[1;33m(\u001b[0m\u001b[1;34m'div>a>h2'\u001b[0m\u001b[1;33m)\u001b[0m\u001b[1;33m.\u001b[0m\u001b[0mget_attribute\u001b[0m\u001b[1;33m(\u001b[0m\u001b[1;34m'innerText'\u001b[0m\u001b[1;33m)\u001b[0m\u001b[1;33m\u001b[0m\u001b[1;33m\u001b[0m\u001b[0m\n",
      "\u001b[1;32mC:\\ProgramData\\Anaconda3\\lib\\site-packages\\selenium\\webdriver\\remote\\webelement.py\u001b[0m in \u001b[0;36mclick\u001b[1;34m(self)\u001b[0m\n\u001b[0;32m     78\u001b[0m     \u001b[1;32mdef\u001b[0m \u001b[0mclick\u001b[0m\u001b[1;33m(\u001b[0m\u001b[0mself\u001b[0m\u001b[1;33m)\u001b[0m\u001b[1;33m:\u001b[0m\u001b[1;33m\u001b[0m\u001b[1;33m\u001b[0m\u001b[0m\n\u001b[0;32m     79\u001b[0m         \u001b[1;34m\"\"\"Clicks the element.\"\"\"\u001b[0m\u001b[1;33m\u001b[0m\u001b[1;33m\u001b[0m\u001b[0m\n\u001b[1;32m---> 80\u001b[1;33m         \u001b[0mself\u001b[0m\u001b[1;33m.\u001b[0m\u001b[0m_execute\u001b[0m\u001b[1;33m(\u001b[0m\u001b[0mCommand\u001b[0m\u001b[1;33m.\u001b[0m\u001b[0mCLICK_ELEMENT\u001b[0m\u001b[1;33m)\u001b[0m\u001b[1;33m\u001b[0m\u001b[1;33m\u001b[0m\u001b[0m\n\u001b[0m\u001b[0;32m     81\u001b[0m \u001b[1;33m\u001b[0m\u001b[0m\n\u001b[0;32m     82\u001b[0m     \u001b[1;32mdef\u001b[0m \u001b[0msubmit\u001b[0m\u001b[1;33m(\u001b[0m\u001b[0mself\u001b[0m\u001b[1;33m)\u001b[0m\u001b[1;33m:\u001b[0m\u001b[1;33m\u001b[0m\u001b[1;33m\u001b[0m\u001b[0m\n",
      "\u001b[1;32mC:\\ProgramData\\Anaconda3\\lib\\site-packages\\selenium\\webdriver\\remote\\webelement.py\u001b[0m in \u001b[0;36m_execute\u001b[1;34m(self, command, params)\u001b[0m\n\u001b[0;32m    631\u001b[0m             \u001b[0mparams\u001b[0m \u001b[1;33m=\u001b[0m \u001b[1;33m{\u001b[0m\u001b[1;33m}\u001b[0m\u001b[1;33m\u001b[0m\u001b[1;33m\u001b[0m\u001b[0m\n\u001b[0;32m    632\u001b[0m         \u001b[0mparams\u001b[0m\u001b[1;33m[\u001b[0m\u001b[1;34m'id'\u001b[0m\u001b[1;33m]\u001b[0m \u001b[1;33m=\u001b[0m \u001b[0mself\u001b[0m\u001b[1;33m.\u001b[0m\u001b[0m_id\u001b[0m\u001b[1;33m\u001b[0m\u001b[1;33m\u001b[0m\u001b[0m\n\u001b[1;32m--> 633\u001b[1;33m         \u001b[1;32mreturn\u001b[0m \u001b[0mself\u001b[0m\u001b[1;33m.\u001b[0m\u001b[0m_parent\u001b[0m\u001b[1;33m.\u001b[0m\u001b[0mexecute\u001b[0m\u001b[1;33m(\u001b[0m\u001b[0mcommand\u001b[0m\u001b[1;33m,\u001b[0m \u001b[0mparams\u001b[0m\u001b[1;33m)\u001b[0m\u001b[1;33m\u001b[0m\u001b[1;33m\u001b[0m\u001b[0m\n\u001b[0m\u001b[0;32m    634\u001b[0m \u001b[1;33m\u001b[0m\u001b[0m\n\u001b[0;32m    635\u001b[0m     \u001b[1;32mdef\u001b[0m \u001b[0mfind_element\u001b[0m\u001b[1;33m(\u001b[0m\u001b[0mself\u001b[0m\u001b[1;33m,\u001b[0m \u001b[0mby\u001b[0m\u001b[1;33m=\u001b[0m\u001b[0mBy\u001b[0m\u001b[1;33m.\u001b[0m\u001b[0mID\u001b[0m\u001b[1;33m,\u001b[0m \u001b[0mvalue\u001b[0m\u001b[1;33m=\u001b[0m\u001b[1;32mNone\u001b[0m\u001b[1;33m)\u001b[0m\u001b[1;33m:\u001b[0m\u001b[1;33m\u001b[0m\u001b[1;33m\u001b[0m\u001b[0m\n",
      "\u001b[1;32mC:\\ProgramData\\Anaconda3\\lib\\site-packages\\selenium\\webdriver\\remote\\webdriver.py\u001b[0m in \u001b[0;36mexecute\u001b[1;34m(self, driver_command, params)\u001b[0m\n\u001b[0;32m    319\u001b[0m         \u001b[0mresponse\u001b[0m \u001b[1;33m=\u001b[0m \u001b[0mself\u001b[0m\u001b[1;33m.\u001b[0m\u001b[0mcommand_executor\u001b[0m\u001b[1;33m.\u001b[0m\u001b[0mexecute\u001b[0m\u001b[1;33m(\u001b[0m\u001b[0mdriver_command\u001b[0m\u001b[1;33m,\u001b[0m \u001b[0mparams\u001b[0m\u001b[1;33m)\u001b[0m\u001b[1;33m\u001b[0m\u001b[1;33m\u001b[0m\u001b[0m\n\u001b[0;32m    320\u001b[0m         \u001b[1;32mif\u001b[0m \u001b[0mresponse\u001b[0m\u001b[1;33m:\u001b[0m\u001b[1;33m\u001b[0m\u001b[1;33m\u001b[0m\u001b[0m\n\u001b[1;32m--> 321\u001b[1;33m             \u001b[0mself\u001b[0m\u001b[1;33m.\u001b[0m\u001b[0merror_handler\u001b[0m\u001b[1;33m.\u001b[0m\u001b[0mcheck_response\u001b[0m\u001b[1;33m(\u001b[0m\u001b[0mresponse\u001b[0m\u001b[1;33m)\u001b[0m\u001b[1;33m\u001b[0m\u001b[1;33m\u001b[0m\u001b[0m\n\u001b[0m\u001b[0;32m    322\u001b[0m             response['value'] = self._unwrap_value(\n\u001b[0;32m    323\u001b[0m                 response.get('value', None))\n",
      "\u001b[1;32mC:\\ProgramData\\Anaconda3\\lib\\site-packages\\selenium\\webdriver\\remote\\errorhandler.py\u001b[0m in \u001b[0;36mcheck_response\u001b[1;34m(self, response)\u001b[0m\n\u001b[0;32m    240\u001b[0m                 \u001b[0malert_text\u001b[0m \u001b[1;33m=\u001b[0m \u001b[0mvalue\u001b[0m\u001b[1;33m[\u001b[0m\u001b[1;34m'alert'\u001b[0m\u001b[1;33m]\u001b[0m\u001b[1;33m.\u001b[0m\u001b[0mget\u001b[0m\u001b[1;33m(\u001b[0m\u001b[1;34m'text'\u001b[0m\u001b[1;33m)\u001b[0m\u001b[1;33m\u001b[0m\u001b[1;33m\u001b[0m\u001b[0m\n\u001b[0;32m    241\u001b[0m             \u001b[1;32mraise\u001b[0m \u001b[0mexception_class\u001b[0m\u001b[1;33m(\u001b[0m\u001b[0mmessage\u001b[0m\u001b[1;33m,\u001b[0m \u001b[0mscreen\u001b[0m\u001b[1;33m,\u001b[0m \u001b[0mstacktrace\u001b[0m\u001b[1;33m,\u001b[0m \u001b[0malert_text\u001b[0m\u001b[1;33m)\u001b[0m\u001b[1;33m\u001b[0m\u001b[1;33m\u001b[0m\u001b[0m\n\u001b[1;32m--> 242\u001b[1;33m         \u001b[1;32mraise\u001b[0m \u001b[0mexception_class\u001b[0m\u001b[1;33m(\u001b[0m\u001b[0mmessage\u001b[0m\u001b[1;33m,\u001b[0m \u001b[0mscreen\u001b[0m\u001b[1;33m,\u001b[0m \u001b[0mstacktrace\u001b[0m\u001b[1;33m)\u001b[0m\u001b[1;33m\u001b[0m\u001b[1;33m\u001b[0m\u001b[0m\n\u001b[0m\u001b[0;32m    243\u001b[0m \u001b[1;33m\u001b[0m\u001b[0m\n\u001b[0;32m    244\u001b[0m     \u001b[1;32mdef\u001b[0m \u001b[0m_value_or_default\u001b[0m\u001b[1;33m(\u001b[0m\u001b[0mself\u001b[0m\u001b[1;33m,\u001b[0m \u001b[0mobj\u001b[0m\u001b[1;33m,\u001b[0m \u001b[0mkey\u001b[0m\u001b[1;33m,\u001b[0m \u001b[0mdefault\u001b[0m\u001b[1;33m)\u001b[0m\u001b[1;33m:\u001b[0m\u001b[1;33m\u001b[0m\u001b[1;33m\u001b[0m\u001b[0m\n",
      "\u001b[1;31mElementClickInterceptedException\u001b[0m: Message: element click intercepted: Element <a class=\"base-card__full-link\" href=\"https://www.linkedin.com/jobs/view/claims-data-analyst-at-icw-group-2950265021?refId=YBL9kCrZIYfWY2B87pg97g%3D%3D&amp;trackingId=RImSbIXKQ7rg9h0OzU6OyA%3D%3D&amp;position=20&amp;pageNum=0&amp;trk=public_jobs_jserp-result_search-card\" data-tracking-control-name=\"public_jobs_jserp-result_search-card\" data-tracking-client-ingraph=\"\" data-tracking-will-navigate=\"\">...</a> is not clickable at point (362, 837). Other element would receive the click: <a class=\"base-card__full-link\" href=\"https://www.linkedin.com/jobs/view/front-end-designer-developer-at-avantia-inc-2961189970?refId=YBL9kCrZIYfWY2B87pg97g%3D%3D&amp;trackingId=XCXMSni9xN%2BUCVmZfn1v8A%3D%3D&amp;position=14&amp;pageNum=0&amp;trk=public_jobs_jserp-result_search-card\" data-tracking-control-name=\"public_jobs_jserp-result_search-card\" data-tracking-client-ingraph=\"\" data-tracking-will-navigate=\"\">...</a>\n  (Session info: chrome=99.0.4844.51)\n"
     ]
    }
   ],
   "source": [
    "job_titles = []\n",
    "job_employers = []\n",
    "job_locations = []\n",
    "job_links = []\n",
    "\n",
    "for job in jobs:\n",
    "    #to not spam website\n",
    "    #time.sleep(1)\n",
    "    \n",
    "    #to click on jobs in left result bar\n",
    "    job.find_element_by_class_name('base-card__full-link').click()\n",
    "    \n",
    "    curr_job_title = wd.find_element_by_css_selector('div>a>h2').get_attribute('innerText')\n",
    "    job_titles.append(curr_job_title)\n",
    "    \n",
    "    curr_job_employer = wd.find_element_by_css_selector('div>span>a').get_attribute('innerText')\n",
    "    job_employers.append(curr_job_employer)\n",
    "    \n",
    "    curr_job_location = wd.find_element_by_css_selector('h4>div>span:nth-child(2)').get_attribute('innerText')\n",
    "    job_locations.append(curr_job_location)\n",
    "    \n",
    "    curr_job_link = wd.find_element_by_css_selector('div>div>a').get_attribute('href')\n",
    "    job_links.append(curr_job_link)\n",
    "    \n",
    "    print(wd.find_element_by_class_name('')"
   ]
  },
  {
   "cell_type": "code",
   "execution_count": null,
   "id": "4e6c1221-30c8-4d69-a90e-e95abafa265c",
   "metadata": {},
   "outputs": [],
   "source": []
  },
  {
   "cell_type": "code",
   "execution_count": null,
   "id": "7bd82ced-88b0-4bbe-8deb-aece4e7e57b1",
   "metadata": {},
   "outputs": [],
   "source": []
  },
  {
   "cell_type": "code",
   "execution_count": null,
   "id": "9dd48895-1be7-4024-a696-f3d40de4768f",
   "metadata": {},
   "outputs": [],
   "source": []
  }
 ],
 "metadata": {
  "kernelspec": {
   "display_name": "Python 3",
   "language": "python",
   "name": "python3"
  },
  "language_info": {
   "codemirror_mode": {
    "name": "ipython",
    "version": 3
   },
   "file_extension": ".py",
   "mimetype": "text/x-python",
   "name": "python",
   "nbconvert_exporter": "python",
   "pygments_lexer": "ipython3",
   "version": "3.8.8"
  }
 },
 "nbformat": 4,
 "nbformat_minor": 5
}
