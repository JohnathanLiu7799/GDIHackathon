{
 "cells": [
  {
   "cell_type": "markdown",
   "id": "aade4772-355b-4fed-ad7c-cdc7f99b514f",
   "metadata": {},
   "source": [
    "To gather data we'll be using Selenium"
   ]
  },
  {
   "cell_type": "code",
   "execution_count": 42,
   "id": "255b54c7-0cb4-4f7d-8ca4-013ec66ddb74",
   "metadata": {},
   "outputs": [],
   "source": [
    "from selenium import webdriver\n",
    "import time\n",
    "import pandas as pd\n",
    "import sqlite3"
   ]
  },
  {
   "cell_type": "markdown",
   "id": "ac20d7cf-519a-4deb-ad53-737e79965f39",
   "metadata": {},
   "source": [
    "url:\n",
    "\n",
    "Query = 'Data Scientist'\n",
    "\n",
    "Location = 'Wayne PA United States'\n",
    "\n",
    "Experience = 'Entry Level'"
   ]
  },
  {
   "cell_type": "code",
   "execution_count": 2,
   "id": "94fb1a72-f8ac-4f30-ba0f-17383b501ebb",
   "metadata": {},
   "outputs": [],
   "source": [
    "url = 'https://www.linkedin.com/jobs/search/?keywords=Data%20Scientist&location=Wayne%2C%20Pennsylvania%2C%20United%20States&locationId=&geoId=102554230&f_TPR=&distance=25&f_E=2&position=1&pageNum=0'"
   ]
  },
  {
   "cell_type": "markdown",
   "id": "e7f5652d-1bb0-4dd6-bd3d-a94d6cf6d129",
   "metadata": {},
   "source": [
    "Setting up our web driver"
   ]
  },
  {
   "cell_type": "code",
   "execution_count": 4,
   "id": "a646efa4-c284-4f65-a110-a199abc799a8",
   "metadata": {},
   "outputs": [],
   "source": [
    "wd = webdriver.Chrome(executable_path='chromedriver.exe')"
   ]
  },
  {
   "cell_type": "code",
   "execution_count": 20,
   "id": "a23747c6-7ce7-4396-8843-9ed111aa7ee7",
   "metadata": {},
   "outputs": [],
   "source": [
    "wd.get(url)"
   ]
  },
  {
   "cell_type": "markdown",
   "id": "b8ea30e7-517c-4792-8242-06cb9be19dbe",
   "metadata": {},
   "source": [
    "Determines # of jobs that we'll use in calculating how much to scroll/click to show all jobs"
   ]
  },
  {
   "cell_type": "code",
   "execution_count": 21,
   "id": "7662a2fc-8fdb-4c6d-9f93-29b27a6b9c83",
   "metadata": {},
   "outputs": [],
   "source": [
    "no_of_jobs = wd.find_element_by_css_selector('h1>span').get_attribute('innerText')"
   ]
  },
  {
   "cell_type": "code",
   "execution_count": 22,
   "id": "97c84806-db9f-4925-aaaf-a73794bf0426",
   "metadata": {},
   "outputs": [
    {
     "data": {
      "text/plain": [
       "64"
      ]
     },
     "execution_count": 22,
     "metadata": {},
     "output_type": "execute_result"
    }
   ],
   "source": [
    "if '+' in no_of_jobs: #greater than 1000s\n",
    "    no_of_jobs = wd.find_element_by_css_selector('h1>span').get_attribute('innerText')[:-1].replace(',','')\n",
    "\n",
    "no_of_jobs = int(no_of_jobs)\n",
    "no_of_jobs"
   ]
  },
  {
   "cell_type": "markdown",
   "id": "9eb86bdc-3f12-4515-96b6-4d512baeaaaa",
   "metadata": {},
   "source": [
    "We then try to open as many jobs as possible, trying both to scroll and click 'See More Jobs'"
   ]
  },
  {
   "cell_type": "code",
   "execution_count": 23,
   "id": "bec3372b-f4f2-4bc0-ad24-4e4d67271e70",
   "metadata": {},
   "outputs": [],
   "source": [
    "i = 2\n",
    "while i <= int(no_of_jobs/25)+1: \n",
    "    wd.execute_script('window.scrollTo(0, document.body.scrollHeight);')\n",
    "    i = i + 1\n",
    "    try:\n",
    "        wd.find_element_by_xpath('//*[@id=\"main-content\"]/section[2]/button').click()\n",
    "        time.sleep(5)\n",
    "    except:\n",
    "        pass\n",
    "        time.sleep(5)"
   ]
  },
  {
   "cell_type": "code",
   "execution_count": 24,
   "id": "2157b7bc-67c1-4b09-b5d0-257464378915",
   "metadata": {},
   "outputs": [],
   "source": [
    "job_lists = wd.find_element_by_class_name('jobs-search__results-list')\n",
    "jobs = job_lists.find_elements_by_tag_name('li')"
   ]
  },
  {
   "cell_type": "code",
   "execution_count": 25,
   "id": "08f0fc0e-0c4b-4873-a29b-ee0da8b3c0c3",
   "metadata": {},
   "outputs": [
    {
     "data": {
      "text/plain": [
       "64"
      ]
     },
     "execution_count": 25,
     "metadata": {},
     "output_type": "execute_result"
    }
   ],
   "source": [
    "len(jobs)"
   ]
  },
  {
   "cell_type": "code",
   "execution_count": 26,
   "id": "c58d3af1-0f5b-4f10-b5aa-394949f62493",
   "metadata": {
    "tags": []
   },
   "outputs": [],
   "source": [
    "job_titles = []\n",
    "job_employers = []\n",
    "job_locations = []\n",
    "job_links = []\n",
    "\n",
    "for job in jobs:\n",
    "    #to not spam website\n",
    "    #time.sleep(1)\n",
    "    \n",
    "    #to click on jobs in left result bar\n",
    "    job.find_element_by_class_name('base-card__full-link').click()\n",
    "    \n",
    "    curr_job_title = wd.find_element_by_css_selector('div>a>h2').get_attribute('innerText')\n",
    "    job_titles.append(curr_job_title)\n",
    "    \n",
    "    curr_job_employer = wd.find_element_by_css_selector('div>span>a').get_attribute('innerText')\n",
    "    job_employers.append(curr_job_employer)\n",
    "    \n",
    "    curr_job_location = wd.find_element_by_css_selector('h4>div>span:nth-child(2)').get_attribute('innerText')\n",
    "    job_locations.append(curr_job_location)\n",
    "    \n",
    "    curr_job_link = wd.find_element_by_css_selector('div>div>a').get_attribute('href')\n",
    "    job_links.append(curr_job_link)\n",
    "    "
   ]
  },
  {
   "cell_type": "markdown",
   "id": "f9247f91-b252-484e-a282-8ce30e4b3c14",
   "metadata": {},
   "source": [
    "Clean linebreaks off"
   ]
  },
  {
   "cell_type": "code",
   "execution_count": 34,
   "id": "90226d97-6ea4-4567-a016-e432cfb0cff0",
   "metadata": {},
   "outputs": [],
   "source": [
    "job_employers = [employer.strip('\\n').strip() for employer in job_employers]\n",
    "job_locations = [location.strip('\\n').strip() for location in job_locations]"
   ]
  },
  {
   "cell_type": "code",
   "execution_count": 35,
   "id": "4e6c1221-30c8-4d69-a90e-e95abafa265c",
   "metadata": {},
   "outputs": [],
   "source": [
    "job_data = pd.DataFrame({'Company': job_employers,\n",
    "                        'Title': job_titles,\n",
    "                        'Location': job_locations,\n",
    "                        'Link': job_links})"
   ]
  },
  {
   "cell_type": "code",
   "execution_count": 36,
   "id": "7bd82ced-88b0-4bbe-8deb-aece4e7e57b1",
   "metadata": {},
   "outputs": [
    {
     "data": {
      "text/html": [
       "<div>\n",
       "<style scoped>\n",
       "    .dataframe tbody tr th:only-of-type {\n",
       "        vertical-align: middle;\n",
       "    }\n",
       "\n",
       "    .dataframe tbody tr th {\n",
       "        vertical-align: top;\n",
       "    }\n",
       "\n",
       "    .dataframe thead th {\n",
       "        text-align: right;\n",
       "    }\n",
       "</style>\n",
       "<table border=\"1\" class=\"dataframe\">\n",
       "  <thead>\n",
       "    <tr style=\"text-align: right;\">\n",
       "      <th></th>\n",
       "      <th>Company</th>\n",
       "      <th>Title</th>\n",
       "      <th>Location</th>\n",
       "      <th>Link</th>\n",
       "    </tr>\n",
       "  </thead>\n",
       "  <tbody>\n",
       "    <tr>\n",
       "      <th>0</th>\n",
       "      <td>Robert Half</td>\n",
       "      <td>Data Scientist</td>\n",
       "      <td>Wyomissing, PA</td>\n",
       "      <td>https://www.linkedin.com/jobs/view/data-scient...</td>\n",
       "    </tr>\n",
       "    <tr>\n",
       "      <th>1</th>\n",
       "      <td>Robert Half</td>\n",
       "      <td>Data Scientist</td>\n",
       "      <td>Wyomissing, PA</td>\n",
       "      <td>https://www.linkedin.com/jobs/view/data-scient...</td>\n",
       "    </tr>\n",
       "    <tr>\n",
       "      <th>2</th>\n",
       "      <td>EVERSANA</td>\n",
       "      <td>Data Scientist</td>\n",
       "      <td>Wayne, PA</td>\n",
       "      <td>https://www.linkedin.com/jobs/view/data-scient...</td>\n",
       "    </tr>\n",
       "    <tr>\n",
       "      <th>3</th>\n",
       "      <td>EVERSANA</td>\n",
       "      <td>Data Scientist</td>\n",
       "      <td>Wayne, PA</td>\n",
       "      <td>https://www.linkedin.com/jobs/view/data-scient...</td>\n",
       "    </tr>\n",
       "    <tr>\n",
       "      <th>4</th>\n",
       "      <td>EVERSANA</td>\n",
       "      <td>Data Scientist</td>\n",
       "      <td>Wayne, PA</td>\n",
       "      <td>https://www.linkedin.com/jobs/view/software-en...</td>\n",
       "    </tr>\n",
       "  </tbody>\n",
       "</table>\n",
       "</div>"
      ],
      "text/plain": [
       "       Company           Title        Location  \\\n",
       "0  Robert Half  Data Scientist  Wyomissing, PA   \n",
       "1  Robert Half  Data Scientist  Wyomissing, PA   \n",
       "2     EVERSANA  Data Scientist       Wayne, PA   \n",
       "3     EVERSANA  Data Scientist       Wayne, PA   \n",
       "4     EVERSANA  Data Scientist       Wayne, PA   \n",
       "\n",
       "                                                Link  \n",
       "0  https://www.linkedin.com/jobs/view/data-scient...  \n",
       "1  https://www.linkedin.com/jobs/view/data-scient...  \n",
       "2  https://www.linkedin.com/jobs/view/data-scient...  \n",
       "3  https://www.linkedin.com/jobs/view/data-scient...  \n",
       "4  https://www.linkedin.com/jobs/view/software-en...  "
      ]
     },
     "execution_count": 36,
     "metadata": {},
     "output_type": "execute_result"
    }
   ],
   "source": [
    "job_data.head()"
   ]
  },
  {
   "cell_type": "code",
   "execution_count": 38,
   "id": "9dd48895-1be7-4024-a696-f3d40de4768f",
   "metadata": {},
   "outputs": [
    {
     "data": {
      "text/plain": [
       "256"
      ]
     },
     "execution_count": 38,
     "metadata": {},
     "output_type": "execute_result"
    }
   ],
   "source": [
    "job_data.size"
   ]
  },
  {
   "cell_type": "code",
   "execution_count": null,
   "id": "f1bd5fe3-2339-45dd-bf4b-376b4dafacbe",
   "metadata": {},
   "outputs": [],
   "source": []
  },
  {
   "cell_type": "code",
   "execution_count": 45,
   "id": "2b0a660d-cdfa-4856-b7e7-62d40606b6e8",
   "metadata": {},
   "outputs": [],
   "source": [
    "job_data.to_sql('jobs', sqlite3.connect('jobs.db'))"
   ]
  },
  {
   "cell_type": "code",
   "execution_count": null,
   "id": "e02cab40-df9d-45cb-ac6d-34ce29e13ca6",
   "metadata": {},
   "outputs": [],
   "source": []
  }
 ],
 "metadata": {
  "kernelspec": {
   "display_name": "Python 3",
   "language": "python",
   "name": "python3"
  },
  "language_info": {
   "codemirror_mode": {
    "name": "ipython",
    "version": 3
   },
   "file_extension": ".py",
   "mimetype": "text/x-python",
   "name": "python",
   "nbconvert_exporter": "python",
   "pygments_lexer": "ipython3",
   "version": "3.8.8"
  }
 },
 "nbformat": 4,
 "nbformat_minor": 5
}
